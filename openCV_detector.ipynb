{
 "cells": [
  {
   "cell_type": "code",
   "execution_count": 1,
   "source": [
    "import cv2 as cv"
   ],
   "outputs": [],
   "metadata": {}
  },
  {
   "cell_type": "code",
   "execution_count": 2,
   "source": [
    "# Load classifier\n",
    "weigher_cascade = cv.CascadeClassifier(\"object detection/trained_classifiers/cascade.xml\")"
   ],
   "outputs": [],
   "metadata": {}
  },
  {
   "cell_type": "code",
   "execution_count": 3,
   "source": [
    "img = cv.imread(\"object\\ detection/positives/20191225T011711+0900_infrared_image.png\")"
   ],
   "outputs": [],
   "metadata": {}
  },
  {
   "cell_type": "code",
   "execution_count": 4,
   "source": [
    "def detect_and_display(img):\n",
    "    print(\"Equalizing color histogram\")\n",
    "    img = cv.equalizeHist(img)\n",
    "\n",
    "    print(\"Detecting multiScale...\")\n",
    "    weighers = weigher_cascade.detectMultiScale(img)\n",
    "    # print(\"First entry in predicted weigher locations \", weighers[0])\n",
    "    print(\"Weighers: \", weighers)\n",
    "    if len(weighers) == 0:\n",
    "        print(\"No objects found.. Quitting.\")\n",
    "        quit()\n",
    "    for (x, y, w, h) in weighers:\n",
    "        print(\"I\", end=\"\")\n",
    "        buttom_right = (x + w, y - h)\n",
    "        img = cv.rectangle(img, (x, y), buttom_right, (0, 0, 255), 2)\n",
    "        img = cv.putText(img, \"WEIGHER\", (x, y-8), cv.FONT_HERSHEY_SIMPLEX, 0.8, (0, 0, 255), 2, cv.LINE_AA)\n",
    "    \n",
    "    # cv.imshow(\"Weigher detection\", img)"
   ],
   "outputs": [],
   "metadata": {}
  },
  {
   "cell_type": "code",
   "execution_count": 5,
   "source": [
    "detect_and_display(img)\n",
    "\n",
    "# cv.waitKey(0)\n",
    "# cv.destroyWindow(\"Weigher detection\")\n",
    "# cv.waitKey(1)"
   ],
   "outputs": [
    {
     "output_type": "stream",
     "name": "stdout",
     "text": [
      "Equalizing color histogram\n",
      "Detecting multiScale...\n",
      "Weighers:  ()\n",
      "No objects found.. Quitting.\n"
     ]
    }
   ],
   "metadata": {}
  }
 ],
 "metadata": {
  "orig_nbformat": 4,
  "language_info": {
   "name": "python",
   "version": "3.9.7",
   "mimetype": "text/x-python",
   "codemirror_mode": {
    "name": "ipython",
    "version": 3
   },
   "pygments_lexer": "ipython3",
   "nbconvert_exporter": "python",
   "file_extension": ".py"
  },
  "kernelspec": {
   "name": "python3",
   "display_name": "Python 3.9.7 64-bit ('cv4': conda)"
  },
  "interpreter": {
   "hash": "0a15518ab351c64ab6c1df0418ab185c0ef770084f6f5475ef431422fab61471"
  }
 },
 "nbformat": 4,
 "nbformat_minor": 2
}