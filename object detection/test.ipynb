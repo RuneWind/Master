{
 "cells": [
  {
   "cell_type": "code",
   "execution_count": 244,
   "source": [
    "import pandas as pd\n",
    "import os\n",
    "import cv2 as cv\n",
    "import numpy as np\n",
    "from shutil import copyfile\n",
    "from IPython.display import clear_output"
   ],
   "outputs": [],
   "metadata": {}
  },
  {
   "cell_type": "code",
   "execution_count": 88,
   "source": [
    "img = cv.imread(\"positives/20191225T044013+0900_infrared_image.png\")\n",
    "cv.imshow(\"Original\", img)\n",
    "cv.waitKey(0)\n",
    "cv.destroyWindow(\"Original\")\n",
    "cv.waitKey(1)"
   ],
   "outputs": [
    {
     "output_type": "execute_result",
     "data": {
      "text/plain": [
       "-1"
      ]
     },
     "metadata": {},
     "execution_count": 88
    }
   ],
   "metadata": {}
  },
  {
   "cell_type": "markdown",
   "source": [
    "## **Contour detection**"
   ],
   "metadata": {}
  },
  {
   "cell_type": "code",
   "execution_count": 137,
   "source": [
    "print(images[:3])"
   ],
   "outputs": [
    {
     "output_type": "stream",
     "name": "stdout",
     "text": [
      "['20191228T082803+0900_infrared_image.png', '20200105T010758+0900_infrared_image.png', '20200103T094445+0900_infrared_image.png']\n"
     ]
    }
   ],
   "metadata": {}
  },
  {
   "cell_type": "code",
   "execution_count": 186,
   "source": [
    "img1 = cv.imread(\"positives/\"+images[0], cv.IMREAD_GRAYSCALE)"
   ],
   "outputs": [],
   "metadata": {}
  },
  {
   "cell_type": "code",
   "execution_count": 187,
   "source": [
    "adaptive = cv.adaptiveThreshold(src=img1, maxValue=255, adaptiveMethod=cv.ADAPTIVE_THRESH_GAUSSIAN_C, thresholdType=cv.THRESH_BINARY_INV, blockSize=1001, C=5)\n",
    "cv.imshow(\"Adaptive\", adaptive)\n",
    "cv.waitKey(0)\n",
    "cv.destroyWindow(\"Adaptive\")\n",
    "cv.waitKey(1)"
   ],
   "outputs": [
    {
     "output_type": "execute_result",
     "data": {
      "text/plain": [
       "-1"
      ]
     },
     "metadata": {},
     "execution_count": 187
    }
   ],
   "metadata": {}
  },
  {
   "cell_type": "code",
   "execution_count": 103,
   "source": [
    "# Apply binary thresholding\n",
    "img_gray = cv.cvtColor(img, cv.COLOR_BGR2GRAY)\n",
    "ret, thresh = cv.threshold(img_gray, 90, 255, cv.THRESH_BINARY)\n",
    "thresh = cv.bitwise_not(thresh)\n",
    "thresh = thresh.astype(np.uint8)\n",
    "\n",
    "cv.imshow(\"Binary thresh\", thresh)\n",
    "cv.waitKey(0)\n",
    "cv.destroyWindow(\"Binary thresh\")\n",
    "cv.waitKey(1)"
   ],
   "outputs": [
    {
     "output_type": "execute_result",
     "data": {
      "text/plain": [
       "-1"
      ]
     },
     "metadata": {},
     "execution_count": 103
    }
   ],
   "metadata": {}
  },
  {
   "cell_type": "code",
   "execution_count": 104,
   "source": [
    "contours, hierarchy = cv.findContours(image=thresh, mode=cv.RETR_TREE, method=cv.CHAIN_APPROX_NONE)\n",
    "\n",
    "# Filter contours that are too small or too large\n",
    "filtered_contours = []\n",
    "for con in contours:\n",
    "    if cv.contourArea(con) > 8000 and cv.contourArea(con) < 13000:\n",
    "        filtered_contours.append(con)"
   ],
   "outputs": [],
   "metadata": {}
  },
  {
   "cell_type": "code",
   "execution_count": 105,
   "source": [
    "contour_img = img.copy()\n",
    "cv.drawContours(contour_img, filtered_contours, contourIdx=-1, color=(0, 255, 0), thickness=1, lineType=cv.LINE_AA)\n",
    "cv.imshow(\"None approximation\", contour_img)\n",
    "cv.waitKey(0)\n",
    "cv.destroyWindow(\"None approximation\")\n",
    "cv.waitKey(1)"
   ],
   "outputs": [
    {
     "output_type": "execute_result",
     "data": {
      "text/plain": [
       "-1"
      ]
     },
     "metadata": {},
     "execution_count": 105
    }
   ],
   "metadata": {}
  },
  {
   "cell_type": "markdown",
   "source": [
    "#### Run through many images and display contours"
   ],
   "metadata": {}
  },
  {
   "cell_type": "code",
   "execution_count": 269,
   "source": [
    "images = os.listdir(\"positives/\")\n",
    "total_imgs = 0\n",
    "true_positive = 0                   # 1 Weigher found\n",
    "false_positive = 0                  # 2 False object found\n",
    "false_negative = 0                  # 3 Weigher not found\n",
    "false_and_true_positive = 0         # 4 Weigher and false object found\n",
    "false_negative_and_positive = 0     # 5 False object found and weigher not found\n",
    "true_negative = 0                   # 6 Weigher not in image\n",
    "true_negative_and_false_positive = 0# 7 Weigher is not there but false object is found\n",
    "\n",
    "for im in images:\n",
    "    if im.startswith(\".\") or im.startswith(\"resize\"):\n",
    "        continue\n",
    "    else:\n",
    "        # Img preprocessing\n",
    "        oimg = cv.imread(\"positives/\"+im)\n",
    "        limg = cv.cvtColor(oimg, cv.COLOR_BGR2GRAY)\n",
    "        # ret, thresh = cv.threshold(limg, 90, 255, cv.THRESH_BINARY)\n",
    "        # thres = cv.bitwise_not(thresh)\n",
    "        thresh = cv.adaptiveThreshold(src=limg, maxValue=255, adaptiveMethod=cv.ADAPTIVE_THRESH_GAUSSIAN_C, thresholdType=cv.THRESH_BINARY_INV, blockSize=1001, C=5)\n",
    "        thresh = thresh.astype(np.uint8)\n",
    "\n",
    "        # Find countours\n",
    "        contours, hierarchy = cv.findContours(image=thresh, mode=cv.RETR_TREE, method=cv.CHAIN_APPROX_NONE)\n",
    "\n",
    "        # Filter contours by size\n",
    "        filtered_contours = []\n",
    "        for con in contours:\n",
    "            hull = cv.convexHull(con)\n",
    "            hull_area = cv.contourArea(hull)\n",
    "            con_area = cv.contourArea(con)\n",
    "            x, y, w, h = cv.boundingRect(con)\n",
    "\n",
    "            # Continue if hull area is too small or too large\n",
    "            if hull_area > 40000 or hull_area < 11000:\n",
    "                continue\n",
    "            # Continue if hull is too close to image corders\n",
    "            if (x == 0 or x > 960) or (y == 0 or y > 500):\n",
    "                continue\n",
    "            \n",
    "            solidity = con_area / hull_area\n",
    "            aspect_ratio = w / h\n",
    "            if aspect_ratio > 0.8 and aspect_ratio < 1.25 and solidity > 0.5:\n",
    "                filtered_contours.append(con)\n",
    "                print(\"\\tx, y, w, h:\\t\", x, y, w, h)\n",
    "                print(\"\\tAspect ratio:\\t\", aspect_ratio)\n",
    "                print(\"\\tSolidity\\t\", solidity)\n",
    "                print(\"\\tHull area\\t\", hull_area, \"\\n\")\n",
    "        print(len(filtered_contours), \"out of\", len(contours), \"contours passed filtering\\n\")\n",
    "\n",
    "        # contour_img = limg.copy()\n",
    "        # Display discarded contours in red\n",
    "        cv.drawContours(oimg, contours, contourIdx=-1, color=(0, 0, 255), thickness=1, lineType=cv.LINE_AA)\n",
    "        # Display image with filtered contours in green\n",
    "        cv.drawContours(oimg, filtered_contours, contourIdx=-1, color=(0, 255, 0), thickness=1, lineType=cv.LINE_AA)\n",
    "        # Display bounding box in blue\n",
    "        for con in filtered_contours:\n",
    "            x, y, w, h = cv.boundingRect(con)\n",
    "            cv.rectangle(oimg, (x, y), (x+w, y+h), (255, 0, 0), 2)\n",
    "            cv.putText(oimg, \"WEIGHER\", (x, y-8), cv.FONT_HERSHEY_SIMPLEX, 0.8, (255, 0, 0), 2, cv.LINE_AA)\n",
    "\n",
    "        cv.imshow(\"Contours\", oimg)\n",
    "        k = cv.waitKey(0)\n",
    "        cv.destroyWindow(\"Contours\")\n",
    "        cv.waitKey(1)\n",
    "        clear_output(wait=True)\n",
    "\n",
    "        # Quit if \"q\" is pressed\n",
    "        if k == ord(\"q\"):\n",
    "            break\n",
    "        elif k == ord(\"1\"):\n",
    "            true_positive += 1\n",
    "        elif k == ord(\"2\"):\n",
    "            false_positive += 1\n",
    "        elif k == ord(\"3\"):\n",
    "            false_negative += 1\n",
    "        elif k == ord(\"4\"):\n",
    "            false_and_true_positive += 1\n",
    "        elif k == ord(\"5\"):\n",
    "            false_negative_and_positive += 1\n",
    "        elif k == ord(\"6\"):\n",
    "            true_negative += 1\n",
    "        elif k == ord(\"7\"):    \n",
    "            true_negative_and_false_positive += 1\n",
    "        total_imgs += 1\n",
    "\n",
    "print(\"Total images:\\t\\t\", total_imgs)\n",
    "print(\"True positives:\\t\\t\", true_positive + false_and_true_positive)\n",
    "print(\"False positives:\\t\", false_positive + false_negative_and_positive + false_and_true_positive + true_negative_and_false_positive)\n",
    "print(\"True negatives:\\t\\t\", true_negative + true_negative_and_false_positive)\n",
    "print(\"False negatives:\\t\", false_negative + false_negative_and_positive, \"\\n\")\n",
    "print(\"Detection rate:\\t\\t\", true_positive / total_imgs)\n",
    "print(\"False positive rate:\\t\", (false_positive + false_and_true_positive) / total_imgs)\n",
    "print(\"False negative rate:\\t\", (false_negative + false_negative_and_positive) / total_imgs)\n"
   ],
   "outputs": [
    {
     "output_type": "stream",
     "name": "stdout",
     "text": [
      "Total images:\t\t 1\n",
      "True positives:\t\t 1\n",
      "False positives:\t 0\n",
      "True negatives:\t\t 0\n",
      "False negatives:\t 0 \n",
      "\n",
      "Detection rate:\t\t 1.0\n",
      "False positive rate:\t 0.0\n",
      "False negative rate:\t 0.0\n"
     ]
    }
   ],
   "metadata": {}
  },
  {
   "cell_type": "markdown",
   "source": [
    "**Parameters:** <br>\n",
    "Hull area:&emsp;&emsp;&ensp;12.000 < hull_area < 40.000 <br>\n",
    "Solidity:&emsp;&emsp;&emsp;solidity > 0.6 <br>\n",
    "Aspect ratio:&emsp;0.8 < aspect_ratio < 1.2 <br>\n",
    "\n",
    "**Results** <br>\n",
    "Total images:&emsp;&emsp;200 <br>\n",
    "True positives:&emsp;&ensp;70 <br>\n",
    "False positives:&emsp;&ensp;0 <br>\n",
    "True negatives:&emsp;&ensp;0 <br>\n",
    "False negatives:&emsp;130 <br>\n",
    "<br>\n",
    "\n",
    "**Parameters:** <br>\n",
    "Hull area:&emsp;&emsp;&ensp;11.000 < hull_area < 40.000 <br>\n",
    "Solidity:&emsp;&emsp;&emsp;solidity > 0.5 <br>\n",
    "Aspect ratio:&emsp;0.6 < aspect_ratio < 1.7 <br>\n",
    "\n",
    "**Results** <br>\n",
    "Total images:&emsp;&emsp;200 <br>\n",
    "True positives:&emsp;&ensp;97 <br>\n",
    "False positives:&emsp;&ensp;8 <br>\n",
    "True negatives:&emsp;&ensp;0 <br>\n",
    "False negatives:&emsp;95<br>\n",
    "The second run resulted in significantly larger bounding boxes being accepted"
   ],
   "metadata": {}
  },
  {
   "cell_type": "markdown",
   "source": [
    "## **Hough Transformation**"
   ],
   "metadata": {}
  },
  {
   "cell_type": "code",
   "execution_count": 98,
   "source": [
    "cimg = cv.cvtColor(img, cv.COLOR_BGR2GRAY)\n",
    "kernel = np.array([[0, -1, 0],\n",
    "                   [-1, 5,-1],\n",
    "                   [0, -1, 0]])\n",
    "cimg = cv.filter2D(src=cimg, ddepth=-1, kernel=kernel)\n",
    "\n",
    "\n",
    "circles = cv.HoughCircles(cimg, method=cv.HOUGH_GRADIENT_ALT, dp=1, minDist=10, param1=20, param2=0.90, minRadius=30, maxRadius=100)\n",
    "len(circles[0])"
   ],
   "outputs": [
    {
     "output_type": "execute_result",
     "data": {
      "text/plain": [
       "1"
      ]
     },
     "metadata": {},
     "execution_count": 98
    }
   ],
   "metadata": {}
  },
  {
   "cell_type": "code",
   "execution_count": 99,
   "source": [
    "circles = np.uint16(np.around(circles))\n",
    "for i in circles[0, :]:\n",
    "    # draw outer circle\n",
    "    cv.circle(cimg, center=(i[0], i[1]), radius=i[2], color=(0, 0, 255), thickness=2)\n",
    "    # draw center\n",
    "    cv.circle(cimg, center=(i[0], i[1]), radius=3, color=(0, 255, 0), thickness=3)\n",
    "\n",
    "cv.imshow(\"Detected circles\", cimg)\n",
    "cv.waitKey(0)\n",
    "cv.destroyWindow(\"Detected circles\")\n",
    "cv.waitKey(1)"
   ],
   "outputs": [
    {
     "output_type": "execute_result",
     "data": {
      "text/plain": [
       "-1"
      ]
     },
     "metadata": {},
     "execution_count": 99
    }
   ],
   "metadata": {}
  },
  {
   "cell_type": "markdown",
   "source": [
    "## **Blob detection**"
   ],
   "metadata": {}
  },
  {
   "cell_type": "code",
   "execution_count": 40,
   "source": [
    "bimg = cv.cvtColor(img, cv.COLOR_BGR2GRAY)\n",
    "params = cv.SimpleBlobDetector_Params()\n",
    "# Circularity parameters\n",
    "params.filterByCircularity = False\n",
    "# params.minCircularity = 0.8\n",
    "# Threshold parameters\n",
    "# params.minThreshold = 70\n",
    "# params.maxThreshold = 130\n",
    "# params.thresholdStep = 1\n",
    "# Area parameters\n",
    "params.filterByArea = True\n",
    "params.minArea = 1000\n",
    "params.maxArea = 300000\n",
    "# Color parameters\n",
    "params.filterByColor = False\n",
    "# params.blobColor = 255\n",
    "# Inertia parameters\n",
    "params.filterByInertia = False\n",
    "# Convexity parameters\n",
    "params.filterByConvexity = False\n",
    "# Other parameters\n",
    "params.minRepeatability = 1\n",
    "\n",
    "detector = cv.SimpleBlobDetector_create(params)"
   ],
   "outputs": [],
   "metadata": {}
  },
  {
   "cell_type": "code",
   "execution_count": 268,
   "source": [
    "kernel = np.array([[0, -1, 0],\n",
    "                   [-1, 5,-1],\n",
    "                   [0, -1, 0]])\n",
    "bimg = cv.filter2D(src=bimg, ddepth=-1, kernel=kernel)"
   ],
   "outputs": [],
   "metadata": {}
  },
  {
   "cell_type": "code",
   "execution_count": 276,
   "source": [
    "blobs = detector.detect(bimg)\n",
    "blob_img = cv.drawKeypoints(bimg, blobs, np.array([]), (0, 0, 255), cv.DRAW_MATCHES_FLAGS_DRAW_RICH_KEYPOINTS)\n",
    "cv.imshow(\"blobs\", blob_img)\n",
    "cv.waitKey(0)\n",
    "cv.destroyWindow(\"blobs\")\n",
    "cv.waitKey(1)"
   ],
   "outputs": [
    {
     "output_type": "error",
     "ename": "KeyboardInterrupt",
     "evalue": "",
     "traceback": [
      "\u001b[0;31m---------------------------------------------------------------------------\u001b[0m",
      "\u001b[0;31mKeyboardInterrupt\u001b[0m                         Traceback (most recent call last)",
      "\u001b[0;32m/var/folders/sw/_hw5ky255pj10z1gxdmbkd2m0000gn/T/ipykernel_29807/3032148410.py\u001b[0m in \u001b[0;36m<module>\u001b[0;34m\u001b[0m\n\u001b[1;32m      2\u001b[0m \u001b[0mblob_img\u001b[0m \u001b[0;34m=\u001b[0m \u001b[0mcv\u001b[0m\u001b[0;34m.\u001b[0m\u001b[0mdrawKeypoints\u001b[0m\u001b[0;34m(\u001b[0m\u001b[0mbimg\u001b[0m\u001b[0;34m,\u001b[0m \u001b[0mblobs\u001b[0m\u001b[0;34m,\u001b[0m \u001b[0mnp\u001b[0m\u001b[0;34m.\u001b[0m\u001b[0marray\u001b[0m\u001b[0;34m(\u001b[0m\u001b[0;34m[\u001b[0m\u001b[0;34m]\u001b[0m\u001b[0;34m)\u001b[0m\u001b[0;34m,\u001b[0m \u001b[0;34m(\u001b[0m\u001b[0;36m0\u001b[0m\u001b[0;34m,\u001b[0m \u001b[0;36m0\u001b[0m\u001b[0;34m,\u001b[0m \u001b[0;36m255\u001b[0m\u001b[0;34m)\u001b[0m\u001b[0;34m,\u001b[0m \u001b[0mcv\u001b[0m\u001b[0;34m.\u001b[0m\u001b[0mDRAW_MATCHES_FLAGS_DRAW_RICH_KEYPOINTS\u001b[0m\u001b[0;34m)\u001b[0m\u001b[0;34m\u001b[0m\u001b[0;34m\u001b[0m\u001b[0m\n\u001b[1;32m      3\u001b[0m \u001b[0mcv\u001b[0m\u001b[0;34m.\u001b[0m\u001b[0mimshow\u001b[0m\u001b[0;34m(\u001b[0m\u001b[0;34m\"blobs\"\u001b[0m\u001b[0;34m,\u001b[0m \u001b[0mblob_img\u001b[0m\u001b[0;34m)\u001b[0m\u001b[0;34m\u001b[0m\u001b[0;34m\u001b[0m\u001b[0m\n\u001b[0;32m----> 4\u001b[0;31m \u001b[0mcv\u001b[0m\u001b[0;34m.\u001b[0m\u001b[0mwaitKey\u001b[0m\u001b[0;34m(\u001b[0m\u001b[0;36m0\u001b[0m\u001b[0;34m)\u001b[0m\u001b[0;34m\u001b[0m\u001b[0;34m\u001b[0m\u001b[0m\n\u001b[0m\u001b[1;32m      5\u001b[0m \u001b[0mcv\u001b[0m\u001b[0;34m.\u001b[0m\u001b[0mdestroyWindow\u001b[0m\u001b[0;34m(\u001b[0m\u001b[0;34m\"blobs\"\u001b[0m\u001b[0;34m)\u001b[0m\u001b[0;34m\u001b[0m\u001b[0;34m\u001b[0m\u001b[0m\n\u001b[1;32m      6\u001b[0m \u001b[0mcv\u001b[0m\u001b[0;34m.\u001b[0m\u001b[0mwaitKey\u001b[0m\u001b[0;34m(\u001b[0m\u001b[0;36m1\u001b[0m\u001b[0;34m)\u001b[0m\u001b[0;34m\u001b[0m\u001b[0;34m\u001b[0m\u001b[0m\n",
      "\u001b[0;31mKeyboardInterrupt\u001b[0m: "
     ]
    }
   ],
   "metadata": {}
  },
  {
   "cell_type": "code",
   "execution_count": 38,
   "source": [
    "kernel = np.array([[0, -1, 0],\n",
    "                   [-1, 5,-1],\n",
    "                   [0, -1, 0]])\n",
    "\n",
    "images = os.listdir(\"positives/\")\n",
    "\n",
    "for im in images:\n",
    "    if im.startswith(\".\") or im.startswith(\"resize\"):\n",
    "        continue\n",
    "    limg = cv.imread(filename=\"positives/\"+im)\n",
    "    # limg = cv.filter2D(src=limg, ddepth=-1, kernel=kernel)\n",
    "    blobs = detector.detect(limg)\n",
    "    limg = cv.drawKeypoints(limg, blobs, np.array([]), (0, 0, 255), cv.DRAW_MATCHES_FLAGS_DRAW_RICH_KEYPOINTS)\n",
    "    cv.imshow(\"blobs\", limg)\n",
    "    k = cv.waitKey(0)\n",
    "    cv.destroyWindow(\"blobs\")\n",
    "    cv.waitKey(1)\n",
    "\n",
    "    if k == ord(\"q\"):\n",
    "        break"
   ],
   "outputs": [],
   "metadata": {}
  }
 ],
 "metadata": {
  "orig_nbformat": 4,
  "language_info": {
   "name": "python",
   "version": "3.9.7",
   "mimetype": "text/x-python",
   "codemirror_mode": {
    "name": "ipython",
    "version": 3
   },
   "pygments_lexer": "ipython3",
   "nbconvert_exporter": "python",
   "file_extension": ".py"
  },
  "kernelspec": {
   "name": "python3",
   "display_name": "Python 3.9.7 64-bit ('cv4': conda)"
  },
  "interpreter": {
   "hash": "0a15518ab351c64ab6c1df0418ab185c0ef770084f6f5475ef431422fab61471"
  }
 },
 "nbformat": 4,
 "nbformat_minor": 2
}