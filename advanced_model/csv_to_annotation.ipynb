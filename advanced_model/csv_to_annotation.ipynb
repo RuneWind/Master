{
 "cells": [
  {
   "cell_type": "code",
   "execution_count": 125,
   "metadata": {},
   "outputs": [],
   "source": [
    "import numpy as np\n",
    "import json\n",
    "import pandas as pd"
   ]
  },
  {
   "cell_type": "code",
   "execution_count": 126,
   "metadata": {},
   "outputs": [
    {
     "data": {
      "text/html": [
       "<div>\n",
       "<style scoped>\n",
       "    .dataframe tbody tr th:only-of-type {\n",
       "        vertical-align: middle;\n",
       "    }\n",
       "\n",
       "    .dataframe tbody tr th {\n",
       "        vertical-align: top;\n",
       "    }\n",
       "\n",
       "    .dataframe thead th {\n",
       "        text-align: right;\n",
       "    }\n",
       "</style>\n",
       "<table border=\"1\" class=\"dataframe\">\n",
       "  <thead>\n",
       "    <tr style=\"text-align: right;\">\n",
       "      <th></th>\n",
       "      <th>deviceID</th>\n",
       "      <th>filename</th>\n",
       "      <th>class</th>\n",
       "      <th>timestamp</th>\n",
       "      <th>x</th>\n",
       "      <th>y</th>\n",
       "      <th>width</th>\n",
       "      <th>height</th>\n",
       "    </tr>\n",
       "  </thead>\n",
       "  <tbody>\n",
       "    <tr>\n",
       "      <th>0</th>\n",
       "      <td>0a:92:5e:29:ec:a2</td>\n",
       "      <td>20191225T000100+0900_infrared_image.png</td>\n",
       "      <td>Weigher</td>\n",
       "      <td>20191225T000100+0900</td>\n",
       "      <td>660</td>\n",
       "      <td>388</td>\n",
       "      <td>125</td>\n",
       "      <td>125</td>\n",
       "    </tr>\n",
       "    <tr>\n",
       "      <th>1</th>\n",
       "      <td>0a:92:5e:29:ec:a2</td>\n",
       "      <td>20191225T000606+0900_infrared_image.png</td>\n",
       "      <td>Weigher</td>\n",
       "      <td>20191225T000606+0900</td>\n",
       "      <td>660</td>\n",
       "      <td>388</td>\n",
       "      <td>125</td>\n",
       "      <td>125</td>\n",
       "    </tr>\n",
       "    <tr>\n",
       "      <th>2</th>\n",
       "      <td>0a:92:5e:29:ec:a2</td>\n",
       "      <td>20191225T001111+0900_infrared_image.png</td>\n",
       "      <td>Weigher</td>\n",
       "      <td>20191225T001111+0900</td>\n",
       "      <td>660</td>\n",
       "      <td>388</td>\n",
       "      <td>125</td>\n",
       "      <td>125</td>\n",
       "    </tr>\n",
       "    <tr>\n",
       "      <th>3</th>\n",
       "      <td>0a:92:5e:29:ec:a2</td>\n",
       "      <td>20191225T001617+0900_infrared_image.png</td>\n",
       "      <td>Weigher</td>\n",
       "      <td>20191225T001617+0900</td>\n",
       "      <td>660</td>\n",
       "      <td>388</td>\n",
       "      <td>125</td>\n",
       "      <td>125</td>\n",
       "    </tr>\n",
       "    <tr>\n",
       "      <th>4</th>\n",
       "      <td>0a:92:5e:29:ec:a2</td>\n",
       "      <td>20191225T002120+0900_infrared_image.png</td>\n",
       "      <td>Weigher</td>\n",
       "      <td>20191225T002120+0900</td>\n",
       "      <td>660</td>\n",
       "      <td>388</td>\n",
       "      <td>125</td>\n",
       "      <td>125</td>\n",
       "    </tr>\n",
       "  </tbody>\n",
       "</table>\n",
       "</div>"
      ],
      "text/plain": [
       "            deviceID                                 filename    class  \\\n",
       "0  0a:92:5e:29:ec:a2  20191225T000100+0900_infrared_image.png  Weigher   \n",
       "1  0a:92:5e:29:ec:a2  20191225T000606+0900_infrared_image.png  Weigher   \n",
       "2  0a:92:5e:29:ec:a2  20191225T001111+0900_infrared_image.png  Weigher   \n",
       "3  0a:92:5e:29:ec:a2  20191225T001617+0900_infrared_image.png  Weigher   \n",
       "4  0a:92:5e:29:ec:a2  20191225T002120+0900_infrared_image.png  Weigher   \n",
       "\n",
       "              timestamp    x    y  width  height  \n",
       "0  20191225T000100+0900  660  388    125     125  \n",
       "1  20191225T000606+0900  660  388    125     125  \n",
       "2  20191225T001111+0900  660  388    125     125  \n",
       "3  20191225T001617+0900  660  388    125     125  \n",
       "4  20191225T002120+0900  660  388    125     125  "
      ]
     },
     "execution_count": 126,
     "metadata": {},
     "output_type": "execute_result"
    }
   ],
   "source": [
    "data = pd.read_csv(\"../bounding_box_data.csv\", sep=\",\")\n",
    "data.insert(1, \"filename\", data[\"timestamp\"] + \"_infrared_image.png\")\n",
    "data.insert(2, \"class\", \"Weigher\")\n",
    "\n",
    "column_names = [\"deviceID\", \"filename\", \"class\", \"timestamp\", \"x\", \"y\", \"width\", \"height\"]\n",
    "json_out_path = \"yolov5/coco_annotation.json\"\n",
    "\n",
    "images = []\n",
    "categories = []\n",
    "annotations = []\n",
    "\n",
    "data.head(5)"
   ]
  },
  {
   "cell_type": "code",
   "execution_count": 127,
   "metadata": {},
   "outputs": [],
   "source": [
    "info = {\n",
    "        \"year\": \"2021\",\n",
    "        \"version\": \"1\",\n",
    "        \"description\": \"Created by Rune Wind\",\n",
    "        \"contributor\": \"Rune Wind\",\n",
    "        \"url\": \"https://public.roboflow.ai/object-detection/undefined\",\n",
    "        \"date_created\": \"2021-10-19T12:16:31+00:00\"\n",
    "    }\n",
    "\n",
    "licenses = [\n",
    "        {\n",
    "            \"id\": 1,\n",
    "            \"url\": \"https://creativecommons.org/licenses/by/4.0/\",\n",
    "            \"name\": \"CC BY 4.0\"\n",
    "        }\n",
    "    ]\n",
    "\n",
    "categories = [\n",
    "        {\n",
    "            \"id\": 0,\n",
    "            \"name\": \"Weighers\",\n",
    "            \"supercategory\": \"none\"\n",
    "        },\n",
    "        {\n",
    "            \"id\": 1,\n",
    "            \"name\": \"Weigher\",\n",
    "            \"supercategory\": \"Weighers\"\n",
    "        }]"
   ]
  },
  {
   "cell_type": "code",
   "execution_count": 128,
   "metadata": {},
   "outputs": [],
   "source": [
    "# category = {}\n",
    "# category[\"supercategory\"] = \"none\"\n",
    "# category[\"id\"] = 0\n",
    "# category[\"name\"] = \"Weigher\"\n",
    "# categories.append(category)"
   ]
  },
  {
   "cell_type": "code",
   "execution_count": 129,
   "metadata": {},
   "outputs": [],
   "source": [
    "data['fileid'] = data['filename'].astype('category').cat.codes\n",
    "data['categoryid']= pd.Categorical(data['class'],ordered= True).codes\n",
    "data['categoryid'] = data['categoryid']+1\n",
    "data['annid'] = data.index"
   ]
  },
  {
   "cell_type": "code",
   "execution_count": 130,
   "metadata": {},
   "outputs": [],
   "source": [
    "def image(row):\n",
    "    image = {}\n",
    "    image[\"height\"] = 720\n",
    "    image[\"width\"] = 1280\n",
    "    image[\"id\"] = row.fileid\n",
    "    image[\"file_name\"] = row.filename\n",
    "    return image"
   ]
  },
  {
   "cell_type": "code",
   "execution_count": 131,
   "metadata": {},
   "outputs": [],
   "source": [
    "# def category(row):\n",
    "#     category = {}\n",
    "#     category[\"supercategory\"] = 'None'\n",
    "#     category[\"id\"] = row.categoryid\n",
    "#     category[\"name\"] = row[2]\n",
    "#     return category"
   ]
  },
  {
   "cell_type": "code",
   "execution_count": 132,
   "metadata": {},
   "outputs": [],
   "source": [
    "def annotation(row):\n",
    "    annotation = {}\n",
    "    area = row.width*row.height\n",
    "    annotation[\"segmentation\"] = []\n",
    "    annotation[\"iscrowd\"] = 0\n",
    "    annotation[\"area\"] = area\n",
    "    annotation[\"image_id\"] = row.fileid\n",
    "\n",
    "    annotation[\"bbox\"] = [row.x, row.y, row.width, row.height]\n",
    "\n",
    "    annotation[\"category_id\"] = 1\n",
    "    annotation[\"id\"] = row.annid\n",
    "    return annotation"
   ]
  },
  {
   "cell_type": "code",
   "execution_count": 133,
   "metadata": {},
   "outputs": [],
   "source": [
    "for row in data.itertuples():\n",
    "    annotations.append(annotation(row))\n",
    "\n",
    "imagedf = data.drop_duplicates(subset=['fileid']).sort_values(by='fileid')\n",
    "for row in imagedf.itertuples():\n",
    "    images.append(image(row))\n",
    "\n",
    "# catdf = data.drop_duplicates(subset=['categoryid']).sort_values(by='categoryid')\n",
    "# for row in catdf.itertuples():\n",
    "#     categories.append(category(row))"
   ]
  },
  {
   "cell_type": "code",
   "execution_count": 134,
   "metadata": {},
   "outputs": [],
   "source": [
    "data_coco = {}\n",
    "data_coco[\"info\"] = info\n",
    "data_coco[\"licenses\"] = licenses\n",
    "data_coco[\"categories\"] = categories\n",
    "data_coco[\"images\"] = images\n",
    "data_coco[\"annotations\"] = annotations\n",
    "json.dump(data_coco, open(json_out_path, \"w+\"), indent=4)"
   ]
  }
 ],
 "metadata": {
  "interpreter": {
   "hash": "e312ad6824139d66d08862fadeb3a00cc16900217cce491ff1006aa9a0559345"
  },
  "kernelspec": {
   "display_name": "Python 3.9.6 64-bit ('master': conda)",
   "name": "python3"
  },
  "language_info": {
   "codemirror_mode": {
    "name": "ipython",
    "version": 3
   },
   "file_extension": ".py",
   "mimetype": "text/x-python",
   "name": "python",
   "nbconvert_exporter": "python",
   "pygments_lexer": "ipython3",
   "version": "3.9.6"
  },
  "orig_nbformat": 4
 },
 "nbformat": 4,
 "nbformat_minor": 2
}
