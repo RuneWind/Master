{
 "cells": [
  {
   "cell_type": "code",
   "execution_count": 1,
   "source": [
    "import cv2 as cv\n",
    "import sys\n",
    "import pandas as pd"
   ],
   "outputs": [],
   "metadata": {}
  },
  {
   "cell_type": "code",
   "execution_count": 2,
   "source": [
    "df = pd.read_csv(\"bounding_box_data.csv\")\n",
    "df.head()"
   ],
   "outputs": [
    {
     "output_type": "execute_result",
     "data": {
      "text/html": [
       "<div>\n",
       "<style scoped>\n",
       "    .dataframe tbody tr th:only-of-type {\n",
       "        vertical-align: middle;\n",
       "    }\n",
       "\n",
       "    .dataframe tbody tr th {\n",
       "        vertical-align: top;\n",
       "    }\n",
       "\n",
       "    .dataframe thead th {\n",
       "        text-align: right;\n",
       "    }\n",
       "</style>\n",
       "<table border=\"1\" class=\"dataframe\">\n",
       "  <thead>\n",
       "    <tr style=\"text-align: right;\">\n",
       "      <th></th>\n",
       "      <th>deviceID</th>\n",
       "      <th>timestamp</th>\n",
       "      <th>x</th>\n",
       "      <th>y</th>\n",
       "      <th>width</th>\n",
       "      <th>height</th>\n",
       "    </tr>\n",
       "  </thead>\n",
       "  <tbody>\n",
       "    <tr>\n",
       "      <th>0</th>\n",
       "      <td>0a:92:5e:29:ec:a2</td>\n",
       "      <td>20191225T000100+0900</td>\n",
       "      <td>660</td>\n",
       "      <td>388</td>\n",
       "      <td>125</td>\n",
       "      <td>125</td>\n",
       "    </tr>\n",
       "    <tr>\n",
       "      <th>1</th>\n",
       "      <td>0a:92:5e:29:ec:a2</td>\n",
       "      <td>20191225T000606+0900</td>\n",
       "      <td>660</td>\n",
       "      <td>388</td>\n",
       "      <td>125</td>\n",
       "      <td>125</td>\n",
       "    </tr>\n",
       "    <tr>\n",
       "      <th>2</th>\n",
       "      <td>0a:92:5e:29:ec:a2</td>\n",
       "      <td>20191225T001111+0900</td>\n",
       "      <td>660</td>\n",
       "      <td>388</td>\n",
       "      <td>125</td>\n",
       "      <td>125</td>\n",
       "    </tr>\n",
       "    <tr>\n",
       "      <th>3</th>\n",
       "      <td>0a:92:5e:29:ec:a2</td>\n",
       "      <td>20191225T001617+0900</td>\n",
       "      <td>660</td>\n",
       "      <td>388</td>\n",
       "      <td>125</td>\n",
       "      <td>125</td>\n",
       "    </tr>\n",
       "    <tr>\n",
       "      <th>4</th>\n",
       "      <td>0a:92:5e:29:ec:a2</td>\n",
       "      <td>20191225T002120+0900</td>\n",
       "      <td>660</td>\n",
       "      <td>388</td>\n",
       "      <td>125</td>\n",
       "      <td>125</td>\n",
       "    </tr>\n",
       "  </tbody>\n",
       "</table>\n",
       "</div>"
      ],
      "text/plain": [
       "            deviceID             timestamp    x    y  width  height\n",
       "0  0a:92:5e:29:ec:a2  20191225T000100+0900  660  388    125     125\n",
       "1  0a:92:5e:29:ec:a2  20191225T000606+0900  660  388    125     125\n",
       "2  0a:92:5e:29:ec:a2  20191225T001111+0900  660  388    125     125\n",
       "3  0a:92:5e:29:ec:a2  20191225T001617+0900  660  388    125     125\n",
       "4  0a:92:5e:29:ec:a2  20191225T002120+0900  660  388    125     125"
      ]
     },
     "metadata": {},
     "execution_count": 2
    }
   ],
   "metadata": {}
  },
  {
   "cell_type": "markdown",
   "source": [
    "### Opening, closing and saving images using openCV"
   ],
   "metadata": {}
  },
  {
   "cell_type": "code",
   "execution_count": 4,
   "source": [
    "pic_path = \"/Volumes/Data/data/raw/firefly/camera-images/0a-92-5e-29-ec-a2/2019-12-25\"\n",
    "file_extension = \"_infrared_image.png\"\n",
    "pic_name = pic_path + \"/\" + df.loc[:, \"timestamp\"][0] + file_extension\n",
    "\n",
    "img = cv.imread(pic_name)\n",
    "\n",
    "if img is None:\n",
    "    sys.exit(\"Could not read the image.\")\n",
    "\n",
    "cv.imshow(\"Display window\", img)\n",
    "k = cv.waitKey(0)\n",
    "cv.destroyWindow(\"Display window\")\n",
    "cv.waitKey(1)\n",
    "\n",
    "if k == ord(\"s\"):\n",
    "    cv.imwrite(\"testimg.png\", img)"
   ],
   "outputs": [],
   "metadata": {}
  },
  {
   "cell_type": "markdown",
   "source": [
    "### Drawing rectangles on images"
   ],
   "metadata": {}
  },
  {
   "cell_type": "code",
   "execution_count": 9,
   "source": [
    "img2 = cv.imread(pic_name)\n",
    "\n",
    "top_left = (660, 387)\n",
    "buttom_right = (top_left[0] + 129, top_left[1] + 125)\n",
    "img2 = cv.rectangle(img2, top_left, buttom_right, (0, 0, 255), 1)\n",
    "\n",
    "cv.imshow(\"Bounding box display\", img2)\n",
    "cv.waitKey(0)\n",
    "cv.destroyWindow(\"Bounding box display\")\n",
    "cv.waitKey(1)"
   ],
   "outputs": [
    {
     "output_type": "execute_result",
     "data": {
      "text/plain": [
       "-1"
      ]
     },
     "metadata": {},
     "execution_count": 9
    }
   ],
   "metadata": {}
  },
  {
   "cell_type": "markdown",
   "source": [
    "### Add text to image"
   ],
   "metadata": {}
  },
  {
   "cell_type": "code",
   "execution_count": 47,
   "source": [
    "img3 = cv.imread(pic_name)\n",
    "\n",
    "img3 = cv.putText(img3, \"WEIGHT\", (top_left[0], top_left[1]-8), cv.FONT_HERSHEY_SIMPLEX, 0.8, (0, 0, 255), 2, cv.LINE_AA)\n",
    "img3 = cv.rectangle(img3, top_left, buttom_right, (0, 0, 255), 2)\n",
    "cv.imshow(\"With box and text\", img3)\n",
    "cv.waitKey(0)\n",
    "cv.destroyWindow(\"With box and text\")\n",
    "cv.waitKey(1)"
   ],
   "outputs": [
    {
     "output_type": "execute_result",
     "data": {
      "text/plain": [
       "-1"
      ]
     },
     "metadata": {},
     "execution_count": 47
    }
   ],
   "metadata": {}
  }
 ],
 "metadata": {
  "orig_nbformat": 4,
  "language_info": {
   "name": "python",
   "version": "3.9.6",
   "mimetype": "text/x-python",
   "codemirror_mode": {
    "name": "ipython",
    "version": 3
   },
   "pygments_lexer": "ipython3",
   "nbconvert_exporter": "python",
   "file_extension": ".py"
  },
  "kernelspec": {
   "name": "python3",
   "display_name": "Python 3.9.6 64-bit ('master': conda)"
  },
  "interpreter": {
   "hash": "2984a84b6a002f4a9c7e2677fb961ac9a45a869eea718ccfe86b50ad5f8b2894"
  }
 },
 "nbformat": 4,
 "nbformat_minor": 2
}